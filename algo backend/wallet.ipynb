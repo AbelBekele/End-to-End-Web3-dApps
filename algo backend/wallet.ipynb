{
 "cells": [
  {
   "cell_type": "markdown",
   "metadata": {},
   "source": [
    "### Import packges"
   ]
  },
  {
   "cell_type": "code",
   "execution_count": 14,
   "metadata": {},
   "outputs": [],
   "source": [
    "import os\n",
    "import sys\n",
    "sys.path.append(os.path.abspath(os.path.join('../NFT_py')))\n",
    "\n",
    "from kmd_wallet import KmdAlgorand\n",
    "kmd_algo = KmdAlgorand()"
   ]
  },
  {
   "cell_type": "markdown",
   "metadata": {},
   "source": [
    "### create wallets"
   ]
  },
  {
   "cell_type": "code",
   "execution_count": 15,
   "metadata": {},
   "outputs": [
    {
     "data": {
      "text/plain": [
       "'JKVXZ767PFDOD2WF4XFH6DLK2GTA2L2W4GE2UA7NVOW2VCYRXBWUSCRLGI'"
      ]
     },
     "execution_count": 15,
     "metadata": {},
     "output_type": "execute_result"
    }
   ],
   "source": [
    "DEFAULT_KMD_WALLET_NAME = \"unencrypted-default-wallet\"\n",
    "DEFAULT_KMD_WALLET_PASSWORD = \"\"\n",
    "default_wallet = kmd_algo.create_user_wallet(wallet_name=DEFAULT_KMD_WALLET_NAME, wallet_password=DEFAULT_KMD_WALLET_PASSWORD)\n",
    "\n",
    "\n",
    "user_wallet = kmd_algo.create_user_wallet(wallet_name=\"user\", wallet_password=\"user\")\n",
    "kmd_algo.get_account_address(user_wallet)"
   ]
  },
  {
   "cell_type": "markdown",
   "metadata": {},
   "source": [
    "### Get wallets accounts list"
   ]
  },
  {
   "cell_type": "code",
   "execution_count": 16,
   "metadata": {},
   "outputs": [
    {
     "data": {
      "text/plain": [
       "['ANJA73PEAVOFGU5MZZIU6LXFQ2S5VP64ATKGFZ7LINICKZFIILIC6TFQEI',\n",
       " 'DARHLC2LTBNSUYX6NZEIPPQAECUJGSNDX22GDAV636UQHL2KGZKU6JVKBE',\n",
       " 'KZNK6FGNAHRNGII4GPQWGO5RMVKWH52FKA7252XIILETJPDLUS26J3HIJU',\n",
       " 'LNSYWSWR6Y7ELBCKB5CDFBASBQE3BWA6CW357TPSX5CRLNHJMMI2HMFWAA',\n",
       " 'SCCHXN2M6TEXF2GTTYJSJKX4OJIDJTJVYKQWPEDQCXFJM5ALLHQC75IMCU',\n",
       " '5PXKO6S53TADZRI3OJJSHICE4JOHOMIRDECMV6PQNQ5LI4NH2VL5XXXFUM']"
      ]
     },
     "execution_count": 16,
     "metadata": {},
     "output_type": "execute_result"
    }
   ],
   "source": [
    "default_wallet.list_keys()"
   ]
  },
  {
   "cell_type": "code",
   "execution_count": 17,
   "metadata": {},
   "outputs": [
    {
     "data": {
      "text/plain": [
       "['JKVXZ767PFDOD2WF4XFH6DLK2GTA2L2W4GE2UA7NVOW2VCYRXBWUSCRLGI',\n",
       " '2V2B4SUJ3Z6TQF6L5GPK5QZ4OXE5ZVI6UVABX6FVCY5A4SC2XCDL77CHJE']"
      ]
     },
     "execution_count": 17,
     "metadata": {},
     "output_type": "execute_result"
    }
   ],
   "source": [
    "user_wallet.list_keys()"
   ]
  },
  {
   "cell_type": "markdown",
   "metadata": {},
   "source": [
    "### Check the balance of the accounts"
   ]
  },
  {
   "cell_type": "code",
   "execution_count": 6,
   "metadata": {},
   "outputs": [],
   "source": [
    "default_account = default_wallet.list_keys()[0]\n",
    "user_account = user_wallet.list_keys()[0]"
   ]
  },
  {
   "cell_type": "code",
   "execution_count": 7,
   "metadata": {},
   "outputs": [
    {
     "data": {
      "text/plain": [
       "{'address': 'ANJA73PEAVOFGU5MZZIU6LXFQ2S5VP64ATKGFZ7LINICKZFIILIC6TFQEI',\n",
       " 'amount': 3999998599986000,\n",
       " 'amount-without-pending-rewards': 3999998599986000,\n",
       " 'apps-local-state': [],\n",
       " 'apps-total-schema': {'num-byte-slice': 0, 'num-uint': 0},\n",
       " 'assets': [],\n",
       " 'created-apps': [],\n",
       " 'created-assets': [],\n",
       " 'min-balance': 100000,\n",
       " 'participation': {'selection-participation-key': 'WSFIHdTyGkglPEow+2xxf6ID8sLk9PEGOOr2LYaYyKQ=',\n",
       "  'state-proof-key': 'XQpVLDJj2kwfD9O+6j19xRQbcKt9kvYLqOVd6Hx4l4X9RkAqUX6idLnAA+Yb1ZxRTgpEsHHhTli2T5r+4Ehbyw==',\n",
       "  'vote-first-valid': 0,\n",
       "  'vote-key-dilution': 10000,\n",
       "  'vote-last-valid': 30000,\n",
       "  'vote-participation-key': '102ZT7SgE/beXpu/IFPhsGlhc01JYtGf7RVv1YbUQkk='},\n",
       " 'pending-rewards': 0,\n",
       " 'reward-base': 0,\n",
       " 'rewards': 0,\n",
       " 'round': 42,\n",
       " 'status': 'Online',\n",
       " 'total-apps-opted-in': 0,\n",
       " 'total-assets-opted-in': 0,\n",
       " 'total-created-apps': 0,\n",
       " 'total-created-assets': 0}"
      ]
     },
     "execution_count": 7,
     "metadata": {},
     "output_type": "execute_result"
    }
   ],
   "source": [
    "# default account balance\n",
    "kmd_algo.query_account_information(default_account)"
   ]
  },
  {
   "cell_type": "code",
   "execution_count": 8,
   "metadata": {},
   "outputs": [
    {
     "data": {
      "text/plain": [
       "{'address': '2V2B4SUJ3Z6TQF6L5GPK5QZ4OXE5ZVI6UVABX6FVCY5A4SC2XCDL77CHJE',\n",
       " 'amount': 0,\n",
       " 'amount-without-pending-rewards': 0,\n",
       " 'apps-local-state': [],\n",
       " 'apps-total-schema': {'num-byte-slice': 0, 'num-uint': 0},\n",
       " 'assets': [],\n",
       " 'created-apps': [],\n",
       " 'created-assets': [],\n",
       " 'min-balance': 100000,\n",
       " 'pending-rewards': 0,\n",
       " 'reward-base': 0,\n",
       " 'rewards': 0,\n",
       " 'round': 42,\n",
       " 'status': 'Offline',\n",
       " 'total-apps-opted-in': 0,\n",
       " 'total-assets-opted-in': 0,\n",
       " 'total-created-apps': 0,\n",
       " 'total-created-assets': 0}"
      ]
     },
     "execution_count": 8,
     "metadata": {},
     "output_type": "execute_result"
    }
   ],
   "source": [
    "kmd_algo.query_account_information(user_account)"
   ]
  },
  {
   "cell_type": "markdown",
   "metadata": {},
   "source": [
    "### Transfer algos from default account to user account"
   ]
  },
  {
   "cell_type": "code",
   "execution_count": 9,
   "metadata": {},
   "outputs": [],
   "source": [
    "from algosdk.v2client import algod\n",
    "# Specify the node address and token.\n",
    "\n",
    "algod_address = \"http://localhost:4001\"\n",
    "algod_token = \"aaaaaaaaaaaaaaaaaaaaaaaaaaaaaaaaaaaaaaaaaaaaaaaaaaaaaaaaaaaaaaaa\"\n",
    "\n",
    "# Initialize an algod client\n",
    "algod_client = algod.AlgodClient(algod_token=algod_token, algod_address=algod_address)"
   ]
  },
  {
   "cell_type": "code",
   "execution_count": 10,
   "metadata": {},
   "outputs": [],
   "source": [
    "from algosdk import transaction\n",
    "\n",
    "def send_alogs_transaction(algod_client, receiver_address, sender_address, sender_private_key, amount):\n",
    "\n",
    "    # Construct the transaction\n",
    "    params = algod_client.suggested_params()\n",
    "\n",
    "    txn = transaction.PaymentTxn(\n",
    "        sender=sender_address,\n",
    "        receiver=receiver_address,\n",
    "        amt=amount,\n",
    "        sp=params\n",
    "    )\n",
    "\n",
    "    # Sign the transaction with the sender's private key\n",
    "    signed_txn = txn.sign(sender_private_key)\n",
    "\n",
    "    # Send the transaction to the Algorand network\n",
    "    try:\n",
    "        tx_id = algod_client.send_transaction(signed_txn)\n",
    "        print(\"Transaction ID:\", tx_id)\n",
    "    except Exception as e:\n",
    "        print(\"Transaction failed:\", e)\n"
   ]
  },
  {
   "cell_type": "code",
   "execution_count": 11,
   "metadata": {},
   "outputs": [],
   "source": [
    "sender_private_key = default_wallet.export_key(default_account)"
   ]
  },
  {
   "cell_type": "code",
   "execution_count": 18,
   "metadata": {},
   "outputs": [
    {
     "name": "stdout",
     "output_type": "stream",
     "text": [
      "Transaction ID: QNF57RHBA62P4KSFT453FRZ4NY42CRSEJERHHVXAGHPQQVWCF7FQ\n"
     ]
    }
   ],
   "source": [
    "send_alogs_transaction(\n",
    "    algod_client=algod_client, \n",
    "    receiver_address=user_account, \n",
    "    sender_address=default_account, \n",
    "    sender_private_key=sender_private_key, \n",
    "    amount=1000000)"
   ]
  },
  {
   "cell_type": "markdown",
   "metadata": {},
   "source": [
    "### Check the balance of the user"
   ]
  },
  {
   "cell_type": "code",
   "execution_count": 19,
   "metadata": {},
   "outputs": [
    {
     "data": {
      "text/plain": [
       "{'address': '2V2B4SUJ3Z6TQF6L5GPK5QZ4OXE5ZVI6UVABX6FVCY5A4SC2XCDL77CHJE',\n",
       " 'amount': 2000000,\n",
       " 'amount-without-pending-rewards': 2000000,\n",
       " 'apps-local-state': [],\n",
       " 'apps-total-schema': {'num-byte-slice': 0, 'num-uint': 0},\n",
       " 'assets': [],\n",
       " 'created-apps': [],\n",
       " 'created-assets': [],\n",
       " 'min-balance': 100000,\n",
       " 'pending-rewards': 0,\n",
       " 'reward-base': 0,\n",
       " 'rewards': 0,\n",
       " 'round': 44,\n",
       " 'status': 'Offline',\n",
       " 'total-apps-opted-in': 0,\n",
       " 'total-assets-opted-in': 0,\n",
       " 'total-created-apps': 0,\n",
       " 'total-created-assets': 0}"
      ]
     },
     "execution_count": 19,
     "metadata": {},
     "output_type": "execute_result"
    }
   ],
   "source": [
    "kmd_algo.query_account_information(user_account)"
   ]
  },
  {
   "cell_type": "markdown",
   "metadata": {},
   "source": [
    "### Create asset"
   ]
  },
  {
   "cell_type": "code",
   "execution_count": 20,
   "metadata": {},
   "outputs": [],
   "source": [
    "def create_asset(sender_address, sender_private_key, asset_url):\n",
    "    sp = algod_client.suggested_params()\n",
    "    txn = transaction.AssetConfigTxn(\n",
    "        sender=sender_address,\n",
    "        sp=sp,\n",
    "        default_frozen=False,\n",
    "        unit_name=\"rug\",\n",
    "        asset_name=\"Really Useful Gift\",\n",
    "        manager=sender_address,\n",
    "        reserve=sender_address,\n",
    "        freeze=sender_address,\n",
    "        clawback=sender_address,\n",
    "        url=asset_url,\n",
    "        total=1000,\n",
    "        decimals=0,\n",
    "    )\n",
    "\n",
    "    # Sign with secret key of creator\n",
    "    stxn = txn.sign(sender_private_key)\n",
    "    # Send the transaction to the network and retrieve the txid.\n",
    "    txid = algod_client.send_transaction(stxn)\n",
    "    print(f\"Sent asset create transaction with txid: {txid}\")\n",
    "    # Wait for the transaction to be confirmed\n",
    "    results = transaction.wait_for_confirmation(algod_client, txid, 4)\n",
    "    print(f\"Result confirmed in round: {results['confirmed-round']}\")\n",
    "    return results"
   ]
  },
  {
   "cell_type": "code",
   "execution_count": 21,
   "metadata": {},
   "outputs": [],
   "source": [
    "sender_private_key = user_wallet.export_key(user_account)"
   ]
  },
  {
   "cell_type": "code",
   "execution_count": 22,
   "metadata": {},
   "outputs": [
    {
     "name": "stdout",
     "output_type": "stream",
     "text": [
      "Sent asset create transaction with txid: 2XNYUIQ5UALAG46SZAA24ABLCJGNE45HQXKB4VN6HUNYVSCEQRRA\n",
      "Result confirmed in round: 45\n"
     ]
    },
    {
     "data": {
      "text/plain": [
       "{'asset-index': 1045,\n",
       " 'confirmed-round': 45,\n",
       " 'pool-error': '',\n",
       " 'txn': {'sig': '9mzCYS29G4QRPM5dtHR+HlaqQjU4RH1VnwHYq9pg9tCRlmX+yXzxuOPGPBSeP336pmivvNgmcBdiraY7UhGzCQ==',\n",
       "  'txn': {'apar': {'an': 'Really Useful Gift',\n",
       "    'au': 'https://path/to/my/asset/details',\n",
       "    'c': '2V2B4SUJ3Z6TQF6L5GPK5QZ4OXE5ZVI6UVABX6FVCY5A4SC2XCDL77CHJE',\n",
       "    'f': '2V2B4SUJ3Z6TQF6L5GPK5QZ4OXE5ZVI6UVABX6FVCY5A4SC2XCDL77CHJE',\n",
       "    'm': '2V2B4SUJ3Z6TQF6L5GPK5QZ4OXE5ZVI6UVABX6FVCY5A4SC2XCDL77CHJE',\n",
       "    'r': '2V2B4SUJ3Z6TQF6L5GPK5QZ4OXE5ZVI6UVABX6FVCY5A4SC2XCDL77CHJE',\n",
       "    't': 1000,\n",
       "    'un': 'rug'},\n",
       "   'fee': 1000,\n",
       "   'fv': 44,\n",
       "   'gen': 'dockernet-v1',\n",
       "   'gh': 'STsgjyTQu7/qbg8jF/KxxHiyoTLNB90NpaLChWF+5yI=',\n",
       "   'lv': 1044,\n",
       "   'snd': '2V2B4SUJ3Z6TQF6L5GPK5QZ4OXE5ZVI6UVABX6FVCY5A4SC2XCDL77CHJE',\n",
       "   'type': 'acfg'}}}"
      ]
     },
     "execution_count": 22,
     "metadata": {},
     "output_type": "execute_result"
    }
   ],
   "source": [
    "create_asset(\n",
    "    sender_address=user_account, \n",
    "    sender_private_key=sender_private_key, \n",
    "    asset_url=\"https://path/to/my/asset/details\")"
   ]
  },
  {
   "cell_type": "code",
   "execution_count": null,
   "metadata": {},
   "outputs": [],
   "source": []
  }
 ],
 "metadata": {
  "kernelspec": {
   "display_name": "Python 3 (ipykernel)",
   "language": "python",
   "name": "python3"
  },
  "language_info": {
   "codemirror_mode": {
    "name": "ipython",
    "version": 3
   },
   "file_extension": ".py",
   "mimetype": "text/x-python",
   "name": "python",
   "nbconvert_exporter": "python",
   "pygments_lexer": "ipython3",
   "version": "3.11.2"
  }
 },
 "nbformat": 4,
 "nbformat_minor": 4
}
