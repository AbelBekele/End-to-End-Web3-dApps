{
 "cells": [
  {
   "cell_type": "code",
   "execution_count": 27,
   "metadata": {},
   "outputs": [],
   "source": [
    "import json\n",
    "import hashlib\n",
    "from algosdk.v2client import algod\n",
    "from algosdk import account, mnemonic\n",
    "from algosdk.transaction import AssetConfigTxn, AssetTransferTxn, AssetFreezeTxn, wait_for_confirmation\n",
    "from algosdk import account\n",
    "import algosdk"
   ]
  },
  {
   "cell_type": "markdown",
   "metadata": {},
   "source": [
    "Create Asset"
   ]
  },
  {
   "cell_type": "code",
   "execution_count": 28,
   "metadata": {},
   "outputs": [],
   "source": [
    "algod_token = \"aaaaaaaaaaaaaaaaaaaaaaaaaaaaaaaaaaaaaaaaaaaaaaaaaaaaaaaaaaaaaaaa\"\n",
    "algod_address = \"http://192.168.137.236:4001\"\n",
    "algod_client = algod.AlgodClient(algod_token, algod_address)\n"
   ]
  },
  {
   "cell_type": "code",
   "execution_count": 29,
   "metadata": {},
   "outputs": [],
   "source": [
    "def print_created_asset(algodclient, account, assetid):\n",
    "  # note: if you have an indexer instance available it is easier to just use this\n",
    "  # response = myindexer.accounts(asset_id = assetid)\n",
    "  # then use 'account_info['created-assets'][0] to get info on the created asset\n",
    "  account_info = algodclient.account_info(account)\n",
    "  idx = 0\n",
    "  for my_account_info in account_info['created-assets']:\n",
    "    scrutinized_asset = account_info['created-assets'][idx]\n",
    "    idx = idx + 1       \n",
    "    if (scrutinized_asset['index'] == assetid):\n",
    "      print(\"Asset ID: {}\".format(scrutinized_asset['index']))\n",
    "      print(json.dumps(my_account_info['params'], indent=4))\n",
    "      break\n",
    "\n",
    "#   Utility function used to print asset holding for account and assetid\n",
    "def print_asset_holding(algodclient, account, assetid):\n",
    "    # note: if you have an indexer instance available it is easier to just use this\n",
    "    # response = myindexer.accounts(asset_id = assetid)\n",
    "    # then loop thru the accounts returned and match the account you are looking for\n",
    "    account_info = algodclient.account_info(account)\n",
    "    idx = 0\n",
    "    for my_account_info in account_info['assets']:\n",
    "        scrutinized_asset = account_info['assets'][idx]\n",
    "        idx = idx + 1        \n",
    "        if (scrutinized_asset['asset-id'] == assetid):\n",
    "            print(\"Asset ID: {}\".format(scrutinized_asset['asset-id']))\n",
    "            print(json.dumps(scrutinized_asset, indent=4))\n",
    "            break"
   ]
  },
  {
   "cell_type": "code",
   "execution_count": 30,
   "metadata": {},
   "outputs": [],
   "source": [
    "# accepts the mnemonic\n",
    "def create_asset(m,receiver_pk):\n",
    "    # Convert mnemonic to private key\n",
    "  private_key = algosdk.mnemonic.to_private_key(m)\n",
    "\n",
    "  # Get the address from the private key\n",
    "  public_key = algosdk.account.address_from_private_key(private_key)\n",
    "  # Store the keys in the accounts dictionary\n",
    "  accounts = {}\n",
    "  accounts[1] = {}\n",
    "  accounts[1]['pk'] = public_key\n",
    "  accounts[1]['sk'] = private_key\n",
    "\n",
    "  print(\"--------------------------------------------\")\n",
    "  print(\"Creating Asset...\")\n",
    "  # CREATE ASSET\n",
    "  # Get network params for transactions before every transaction.\n",
    "  params = algod_client.suggested_params()\n",
    "  # comment these two lines if you want to use suggested params\n",
    "  # params.fee = 1000\n",
    "  # params.flat_fee = True\n",
    "    \n",
    "  # JSON file\n",
    "#   dir_path = os.path.dirname(os.path.realpath(__file__))\n",
    "#   f = open (dir_path + '/NFT/metadata.json', \"r\")\n",
    "  f = open ('../NFT_py/NFT/metadata.json', \"r\")\n",
    "\n",
    "\n",
    "  \n",
    "  # Reading from file\n",
    "  metadataJSON = json.loads(f.read())\n",
    "  metadataStr = json.dumps(metadataJSON)\n",
    "\n",
    "  hash = hashlib.new(\"sha512_256\")\n",
    "  hash.update(b\"arc0003/amj\")\n",
    "  hash.update(metadataStr.encode(\"utf-8\"))\n",
    "  json_metadata_hash = hash.digest()\n",
    "\n",
    "\n",
    "  # Account 1 creates an asset called latinum and\n",
    "  # sets Account 1 as the manager, reserve, freeze, and clawback address.\n",
    "  # Asset Creation transaction\n",
    "  txn = AssetConfigTxn(\n",
    "      sender=accounts[1]['pk'],\n",
    "      sp=params,\n",
    "      total=1,\n",
    "      default_frozen=False,\n",
    "      unit_name=\"ALICE001\",\n",
    "      asset_name=\"Alice's Artwork 001\",\n",
    "      manager=accounts[1]['pk'],\n",
    "      reserve=receiver_pk,\n",
    "      freeze=None,\n",
    "      clawback=None,\n",
    "      strict_empty_address_check=False,\n",
    "      url=\"https://path/to/my/asset/details\", \n",
    "      metadata_hash=json_metadata_hash,\n",
    "      decimals=0)\n",
    "\n",
    "  # Sign with secret key of creator\n",
    "  stxn = txn.sign(accounts[1]['sk'])\n",
    "\n",
    "  # Send the transaction to the network and retrieve the txid.\n",
    "  txid = algod_client.send_transaction(stxn)\n",
    "  print(\"Asset Creation Transaction ID: {}\".format(txid))\n",
    "\n",
    "\n",
    "  # Wait for the transaction to be confirmed\n",
    "  confirmed_txn = wait_for_confirmation(algod_client, txid, 4)  \n",
    "  print(\"TXID: \", txid)\n",
    "  print(\"Result confirmed in round: {}\".format(confirmed_txn['confirmed-round']))\n",
    "  try:\n",
    "      # Pull account info for the creator\n",
    "      # account_info = algod_client.account_info(accounts[1]['pk'])\n",
    "      # get asset_id from tx\n",
    "      # Get the new asset's information from the creator account\n",
    "      ptx = algod_client.pending_transaction_info(txid)\n",
    "      asset_id = ptx[\"asset-index\"]\n",
    "      print_created_asset(algod_client, accounts[1]['pk'], asset_id)\n",
    "      print_asset_holding(algod_client, accounts[1]['pk'], asset_id)\n",
    "  except Exception as e:\n",
    "      print(e)\n"
   ]
  },
  {
   "cell_type": "code",
   "execution_count": 31,
   "metadata": {},
   "outputs": [],
   "source": [
    "# OPT-IN\n",
    "def opt_in(trainee_m, asset_id):\n",
    "    # Convert mnemonic to private key\n",
    "    trainee_sk = algosdk.mnemonic.to_private_key(trainee_m)\n",
    "\n",
    "    # Get the address from the private key\n",
    "    trainee_pk = algosdk.account.address_from_private_key(trainee_sk)\n",
    "\n",
    "    params = algod_client.suggested_params()\n",
    "    # comment these two lines if you want to use suggested params\n",
    "    params.fee = 1000\n",
    "    params.flat_fee = True\n",
    "\n",
    "\n",
    "    # Use the AssetTransferTxn class to transfer assets and opt-in\n",
    "    txn = AssetTransferTxn(\n",
    "        sender=trainee_pk,\n",
    "        sp=params,\n",
    "        receiver=trainee_pk,\n",
    "        amt=0,\n",
    "        index=asset_id)\n",
    "    stxn = txn.sign(trainee_sk)\n",
    "    txid = algod_client.send_transaction(stxn)\n",
    "    print(txid)\n",
    "    # Wait for the transaction to be confirmed\n",
    "    wait_for_confirmation(algod_client, txid)\n",
    "    # Now check the asset holding for that account.\n",
    "    # This should now show a holding with a balance of 0.\n",
    "    print_asset_holding(algod_client, trainee_pk, asset_id)"
   ]
  },
  {
   "cell_type": "code",
   "execution_count": 32,
   "metadata": {},
   "outputs": [],
   "source": [
    "def transfer_asset(sender_m, receiver_pk, asset_id):\n",
    "    # Convert mnemonic to private key\n",
    "    sender_sk = algosdk.mnemonic.to_private_key(sender_m)\n",
    "\n",
    "    # Get the address from the private key\n",
    "    sender_pk = algosdk.account.address_from_private_key(sender_sk)\n",
    "\n",
    "    # transfer asset of 10 from account 1 to account 3\n",
    "    params = algod_client.suggested_params()\n",
    "    # comment these two lines if you want to use suggested params\n",
    "    params.fee = 1000\n",
    "    params.flat_fee = True\n",
    "    txn = AssetTransferTxn(\n",
    "        sender=sender_pk,\n",
    "        sp=params,\n",
    "        receiver=receiver_pk,\n",
    "        amt=1,\n",
    "        index=asset_id)\n",
    "    stxn = txn.sign(sender_sk)\n",
    "    txid = algod_client.send_transaction(stxn)\n",
    "    print(txid)\n",
    "    # Wait for the transaction to be confirmed\n",
    "    wait_for_confirmation(algod_client, txid)\n",
    "    # The balance should now be 10.\n",
    "    print_asset_holding(algod_client, receiver_pk, asset_id)"
   ]
  },
  {
   "cell_type": "markdown",
   "metadata": {},
   "source": [
    "## sender"
   ]
  },
  {
   "cell_type": "code",
   "execution_count": 33,
   "metadata": {},
   "outputs": [
    {
     "name": "stdout",
     "output_type": "stream",
     "text": [
      "My address: ORGL2CWEPC2RRQHGT4YTBTA57ZS3JU4YIGTLNYU7JQKUUZGPUQTM7I2JD4\n",
      "Account balance: 0 microAlgos\n",
      "\n",
      "Transaction ID: YCGFNOV4Z2QO5276KASGYQTARRABRQ3JNWA7JFRVUW52JSKJQJSQ\n",
      "Fund transfer in process...\n",
      "Fund transferred!\n",
      "Account balance: 1000000 microAlgos\n",
      "\n"
     ]
    }
   ],
   "source": [
    "import os,sys\n",
    "cwd = os.getcwd()\n",
    "sys.path.append(f'../NFT_py/')\n",
    "from create_account import create_account\n",
    "m=create_account()"
   ]
  },
  {
   "cell_type": "markdown",
   "metadata": {},
   "source": [
    "## receiver"
   ]
  },
  {
   "cell_type": "code",
   "execution_count": 34,
   "metadata": {},
   "outputs": [
    {
     "name": "stdout",
     "output_type": "stream",
     "text": [
      "My address: ZYPLVWUNKL4MNZPJNSYFTZYUDJMMDJHGLSGZDUC6NPTBRKMZWUBAYCWXBI\n",
      "Account balance: 0 microAlgos\n",
      "\n",
      "Transaction ID: M6AE3THK3F2S4GGKLNZAYOBAOE6UYQMLS6DRJ3JAR72CDRSWQDHA\n",
      "Fund transfer in process...\n",
      "Fund transferred!\n",
      "Account balance: 1000000 microAlgos\n",
      "\n"
     ]
    }
   ],
   "source": [
    "receiver=create_account()"
   ]
  },
  {
   "cell_type": "code",
   "execution_count": 35,
   "metadata": {},
   "outputs": [
    {
     "name": "stdout",
     "output_type": "stream",
     "text": [
      "degree oval west bleak arrest hire young noise flash goose kiss inflict spider accident lift laugh midnight behave chaos notable crush help wage absent logic\n"
     ]
    }
   ],
   "source": [
    "print(receiver)"
   ]
  },
  {
   "cell_type": "code",
   "execution_count": 36,
   "metadata": {},
   "outputs": [],
   "source": [
    "receiver_pk=\"ZYPLVWUNKL4MNZPJNSYFTZYUDJMMDJHGLSGZDUC6NPTBRKMZWUBAYCWXBI\""
   ]
  },
  {
   "cell_type": "code",
   "execution_count": 37,
   "metadata": {},
   "outputs": [
    {
     "name": "stdout",
     "output_type": "stream",
     "text": [
      "--------------------------------------------\n",
      "Creating Asset...\n",
      "Asset Creation Transaction ID: V5H4JU4MBK5BOSITGMSOW65DZQRZ7CYXXMPRUEO4DXMARCQDXIUA\n",
      "TXID:  V5H4JU4MBK5BOSITGMSOW65DZQRZ7CYXXMPRUEO4DXMARCQDXIUA\n",
      "Result confirmed in round: 84\n",
      "Asset ID: 1084\n",
      "{\n",
      "    \"creator\": \"ORGL2CWEPC2RRQHGT4YTBTA57ZS3JU4YIGTLNYU7JQKUUZGPUQTM7I2JD4\",\n",
      "    \"decimals\": 0,\n",
      "    \"default-frozen\": false,\n",
      "    \"manager\": \"ORGL2CWEPC2RRQHGT4YTBTA57ZS3JU4YIGTLNYU7JQKUUZGPUQTM7I2JD4\",\n",
      "    \"metadata-hash\": \"5zAUYEQ+kEKv8VCUNu17DMVNzpzRrF7X9JUr+OEfgp4=\",\n",
      "    \"name\": \"Alice's Artwork 001\",\n",
      "    \"name-b64\": \"QWxpY2UncyBBcnR3b3JrIDAwMQ==\",\n",
      "    \"reserve\": \"ZYPLVWUNKL4MNZPJNSYFTZYUDJMMDJHGLSGZDUC6NPTBRKMZWUBAYCWXBI\",\n",
      "    \"total\": 1,\n",
      "    \"unit-name\": \"ALICE001\",\n",
      "    \"unit-name-b64\": \"QUxJQ0UwMDE=\",\n",
      "    \"url\": \"https://path/to/my/asset/details\",\n",
      "    \"url-b64\": \"aHR0cHM6Ly9wYXRoL3RvL215L2Fzc2V0L2RldGFpbHM=\"\n",
      "}\n",
      "Asset ID: 1084\n",
      "{\n",
      "    \"amount\": 1,\n",
      "    \"asset-id\": 1084,\n",
      "    \"is-frozen\": false\n",
      "}\n"
     ]
    }
   ],
   "source": [
    "create_asset(m,receiver_pk)"
   ]
  },
  {
   "cell_type": "code",
   "execution_count": 38,
   "metadata": {},
   "outputs": [
    {
     "name": "stdout",
     "output_type": "stream",
     "text": [
      "X3Y6F5POAZOUEOKGQ5KVEEIAJF7F2O54HBGUNTBLUZPADTOZUFWQ\n"
     ]
    }
   ],
   "source": [
    "asset_id = \"1084\"\n",
    "opt_in(receiver,asset_id)"
   ]
  },
  {
   "cell_type": "code",
   "execution_count": 39,
   "metadata": {},
   "outputs": [
    {
     "name": "stdout",
     "output_type": "stream",
     "text": [
      "2JTZJS47VKCLFH5CMV5UUGP55MAGQEBIU3KAUAASQGLQKKFBOLEA\n"
     ]
    }
   ],
   "source": [
    "transfer_asset(m,receiver_pk,asset_id)"
   ]
  },
  {
   "cell_type": "code",
   "execution_count": 40,
   "metadata": {},
   "outputs": [
    {
     "name": "stdout",
     "output_type": "stream",
     "text": [
      "--------------------------------------------\n",
      "Creating Asset...\n",
      "Asset Creation Transaction ID: NZCQQLI4UVGP3KG2DWUCC2EMGP22F2NZZLP7VLYNHJSI2MCWTWKQ\n",
      "TXID:  NZCQQLI4UVGP3KG2DWUCC2EMGP22F2NZZLP7VLYNHJSI2MCWTWKQ\n",
      "Result confirmed in round: 87\n",
      "Asset ID: 1087\n",
      "{\n",
      "    \"creator\": \"ORGL2CWEPC2RRQHGT4YTBTA57ZS3JU4YIGTLNYU7JQKUUZGPUQTM7I2JD4\",\n",
      "    \"decimals\": 0,\n",
      "    \"default-frozen\": false,\n",
      "    \"manager\": \"ORGL2CWEPC2RRQHGT4YTBTA57ZS3JU4YIGTLNYU7JQKUUZGPUQTM7I2JD4\",\n",
      "    \"metadata-hash\": \"5zAUYEQ+kEKv8VCUNu17DMVNzpzRrF7X9JUr+OEfgp4=\",\n",
      "    \"name\": \"Alice's Artwork 001\",\n",
      "    \"name-b64\": \"QWxpY2UncyBBcnR3b3JrIDAwMQ==\",\n",
      "    \"total\": 1,\n",
      "    \"unit-name\": \"ALICE001\",\n",
      "    \"unit-name-b64\": \"QUxJQ0UwMDE=\",\n",
      "    \"url\": \"https://path/to/my/asset/details\",\n",
      "    \"url-b64\": \"aHR0cHM6Ly9wYXRoL3RvL215L2Fzc2V0L2RldGFpbHM=\"\n",
      "}\n",
      "Asset ID: 1087\n",
      "{\n",
      "    \"amount\": 1,\n",
      "    \"asset-id\": 1087,\n",
      "    \"is-frozen\": false\n",
      "}\n"
     ]
    }
   ],
   "source": [
    "create_asset(m,None)"
   ]
  },
  {
   "cell_type": "markdown",
   "metadata": {},
   "source": [
    "## transferring asset without optin results in error"
   ]
  },
  {
   "cell_type": "code",
   "execution_count": 24,
   "metadata": {},
   "outputs": [
    {
     "ename": "AlgodHTTPError",
     "evalue": "TransactionPool.Remember: transaction DSOPJVUDJPFYIH7BYLZLKUI5SI23DTUMVZ3YGGELDDEVJNXXPZIA: asset 1112 missing from 4W45VZP6SMVYITTI7SJESMVSAJ6ATGGAQYZQCTRS22BSO4RWWPPEZMTIMQ",
     "output_type": "error",
     "traceback": [
      "\u001b[0;31m---------------------------------------------------------------------------\u001b[0m",
      "\u001b[0;31mHTTPError\u001b[0m                                 Traceback (most recent call last)",
      "File \u001b[0;32m~/End-to-End-Web3-dApps/venv/lib/python3.11/site-packages/algosdk/v2client/algod.py:104\u001b[0m, in \u001b[0;36mAlgodClient.algod_request\u001b[0;34m(self, method, requrl, params, data, headers, response_format)\u001b[0m\n\u001b[1;32m    103\u001b[0m \u001b[38;5;28;01mtry\u001b[39;00m:\n\u001b[0;32m--> 104\u001b[0m     resp \u001b[38;5;241m=\u001b[39m \u001b[43murlopen\u001b[49m\u001b[43m(\u001b[49m\u001b[43mreq\u001b[49m\u001b[43m)\u001b[49m\n\u001b[1;32m    105\u001b[0m \u001b[38;5;28;01mexcept\u001b[39;00m urllib\u001b[38;5;241m.\u001b[39merror\u001b[38;5;241m.\u001b[39mHTTPError \u001b[38;5;28;01mas\u001b[39;00m e:\n",
      "File \u001b[0;32m/usr/lib/python3.11/urllib/request.py:216\u001b[0m, in \u001b[0;36murlopen\u001b[0;34m(url, data, timeout, cafile, capath, cadefault, context)\u001b[0m\n\u001b[1;32m    215\u001b[0m     opener \u001b[38;5;241m=\u001b[39m _opener\n\u001b[0;32m--> 216\u001b[0m \u001b[38;5;28;01mreturn\u001b[39;00m \u001b[43mopener\u001b[49m\u001b[38;5;241;43m.\u001b[39;49m\u001b[43mopen\u001b[49m\u001b[43m(\u001b[49m\u001b[43murl\u001b[49m\u001b[43m,\u001b[49m\u001b[43m \u001b[49m\u001b[43mdata\u001b[49m\u001b[43m,\u001b[49m\u001b[43m \u001b[49m\u001b[43mtimeout\u001b[49m\u001b[43m)\u001b[49m\n",
      "File \u001b[0;32m/usr/lib/python3.11/urllib/request.py:525\u001b[0m, in \u001b[0;36mOpenerDirector.open\u001b[0;34m(self, fullurl, data, timeout)\u001b[0m\n\u001b[1;32m    524\u001b[0m     meth \u001b[38;5;241m=\u001b[39m \u001b[38;5;28mgetattr\u001b[39m(processor, meth_name)\n\u001b[0;32m--> 525\u001b[0m     response \u001b[38;5;241m=\u001b[39m \u001b[43mmeth\u001b[49m\u001b[43m(\u001b[49m\u001b[43mreq\u001b[49m\u001b[43m,\u001b[49m\u001b[43m \u001b[49m\u001b[43mresponse\u001b[49m\u001b[43m)\u001b[49m\n\u001b[1;32m    527\u001b[0m \u001b[38;5;28;01mreturn\u001b[39;00m response\n",
      "File \u001b[0;32m/usr/lib/python3.11/urllib/request.py:634\u001b[0m, in \u001b[0;36mHTTPErrorProcessor.http_response\u001b[0;34m(self, request, response)\u001b[0m\n\u001b[1;32m    633\u001b[0m \u001b[38;5;28;01mif\u001b[39;00m \u001b[38;5;129;01mnot\u001b[39;00m (\u001b[38;5;241m200\u001b[39m \u001b[38;5;241m<\u001b[39m\u001b[38;5;241m=\u001b[39m code \u001b[38;5;241m<\u001b[39m \u001b[38;5;241m300\u001b[39m):\n\u001b[0;32m--> 634\u001b[0m     response \u001b[38;5;241m=\u001b[39m \u001b[38;5;28;43mself\u001b[39;49m\u001b[38;5;241;43m.\u001b[39;49m\u001b[43mparent\u001b[49m\u001b[38;5;241;43m.\u001b[39;49m\u001b[43merror\u001b[49m\u001b[43m(\u001b[49m\n\u001b[1;32m    635\u001b[0m \u001b[43m        \u001b[49m\u001b[38;5;124;43m'\u001b[39;49m\u001b[38;5;124;43mhttp\u001b[39;49m\u001b[38;5;124;43m'\u001b[39;49m\u001b[43m,\u001b[49m\u001b[43m \u001b[49m\u001b[43mrequest\u001b[49m\u001b[43m,\u001b[49m\u001b[43m \u001b[49m\u001b[43mresponse\u001b[49m\u001b[43m,\u001b[49m\u001b[43m \u001b[49m\u001b[43mcode\u001b[49m\u001b[43m,\u001b[49m\u001b[43m \u001b[49m\u001b[43mmsg\u001b[49m\u001b[43m,\u001b[49m\u001b[43m \u001b[49m\u001b[43mhdrs\u001b[49m\u001b[43m)\u001b[49m\n\u001b[1;32m    637\u001b[0m \u001b[38;5;28;01mreturn\u001b[39;00m response\n",
      "File \u001b[0;32m/usr/lib/python3.11/urllib/request.py:563\u001b[0m, in \u001b[0;36mOpenerDirector.error\u001b[0;34m(self, proto, *args)\u001b[0m\n\u001b[1;32m    562\u001b[0m args \u001b[38;5;241m=\u001b[39m (\u001b[38;5;28mdict\u001b[39m, \u001b[38;5;124m'\u001b[39m\u001b[38;5;124mdefault\u001b[39m\u001b[38;5;124m'\u001b[39m, \u001b[38;5;124m'\u001b[39m\u001b[38;5;124mhttp_error_default\u001b[39m\u001b[38;5;124m'\u001b[39m) \u001b[38;5;241m+\u001b[39m orig_args\n\u001b[0;32m--> 563\u001b[0m \u001b[38;5;28;01mreturn\u001b[39;00m \u001b[38;5;28;43mself\u001b[39;49m\u001b[38;5;241;43m.\u001b[39;49m\u001b[43m_call_chain\u001b[49m\u001b[43m(\u001b[49m\u001b[38;5;241;43m*\u001b[39;49m\u001b[43margs\u001b[49m\u001b[43m)\u001b[49m\n",
      "File \u001b[0;32m/usr/lib/python3.11/urllib/request.py:496\u001b[0m, in \u001b[0;36mOpenerDirector._call_chain\u001b[0;34m(self, chain, kind, meth_name, *args)\u001b[0m\n\u001b[1;32m    495\u001b[0m func \u001b[38;5;241m=\u001b[39m \u001b[38;5;28mgetattr\u001b[39m(handler, meth_name)\n\u001b[0;32m--> 496\u001b[0m result \u001b[38;5;241m=\u001b[39m \u001b[43mfunc\u001b[49m\u001b[43m(\u001b[49m\u001b[38;5;241;43m*\u001b[39;49m\u001b[43margs\u001b[49m\u001b[43m)\u001b[49m\n\u001b[1;32m    497\u001b[0m \u001b[38;5;28;01mif\u001b[39;00m result \u001b[38;5;129;01mis\u001b[39;00m \u001b[38;5;129;01mnot\u001b[39;00m \u001b[38;5;28;01mNone\u001b[39;00m:\n",
      "File \u001b[0;32m/usr/lib/python3.11/urllib/request.py:643\u001b[0m, in \u001b[0;36mHTTPDefaultErrorHandler.http_error_default\u001b[0;34m(self, req, fp, code, msg, hdrs)\u001b[0m\n\u001b[1;32m    642\u001b[0m \u001b[38;5;28;01mdef\u001b[39;00m \u001b[38;5;21mhttp_error_default\u001b[39m(\u001b[38;5;28mself\u001b[39m, req, fp, code, msg, hdrs):\n\u001b[0;32m--> 643\u001b[0m     \u001b[38;5;28;01mraise\u001b[39;00m HTTPError(req\u001b[38;5;241m.\u001b[39mfull_url, code, msg, hdrs, fp)\n",
      "\u001b[0;31mHTTPError\u001b[0m: HTTP Error 400: Bad Request",
      "\nDuring handling of the above exception, another exception occurred:\n",
      "\u001b[0;31mAlgodHTTPError\u001b[0m                            Traceback (most recent call last)",
      "Cell \u001b[0;32mIn[24], line 2\u001b[0m\n\u001b[1;32m      1\u001b[0m asset_id2\u001b[38;5;241m=\u001b[39m\u001b[38;5;124m\"\u001b[39m\u001b[38;5;124m1112\u001b[39m\u001b[38;5;124m\"\u001b[39m\n\u001b[0;32m----> 2\u001b[0m \u001b[43mtransfer_asset\u001b[49m\u001b[43m(\u001b[49m\u001b[43mm\u001b[49m\u001b[43m,\u001b[49m\u001b[43mreceiver_pk\u001b[49m\u001b[43m,\u001b[49m\u001b[43masset_id2\u001b[49m\u001b[43m)\u001b[49m\n",
      "Cell \u001b[0;32mIn[17], line 20\u001b[0m, in \u001b[0;36mtransfer_asset\u001b[0;34m(sender_m, receiver_pk, asset_id)\u001b[0m\n\u001b[1;32m     13\u001b[0m txn \u001b[38;5;241m=\u001b[39m AssetTransferTxn(\n\u001b[1;32m     14\u001b[0m     sender\u001b[38;5;241m=\u001b[39msender_pk,\n\u001b[1;32m     15\u001b[0m     sp\u001b[38;5;241m=\u001b[39mparams,\n\u001b[1;32m     16\u001b[0m     receiver\u001b[38;5;241m=\u001b[39mreceiver_pk,\n\u001b[1;32m     17\u001b[0m     amt\u001b[38;5;241m=\u001b[39m\u001b[38;5;241m1\u001b[39m,\n\u001b[1;32m     18\u001b[0m     index\u001b[38;5;241m=\u001b[39masset_id)\n\u001b[1;32m     19\u001b[0m stxn \u001b[38;5;241m=\u001b[39m txn\u001b[38;5;241m.\u001b[39msign(sender_sk)\n\u001b[0;32m---> 20\u001b[0m txid \u001b[38;5;241m=\u001b[39m \u001b[43malgod_client\u001b[49m\u001b[38;5;241;43m.\u001b[39;49m\u001b[43msend_transaction\u001b[49m\u001b[43m(\u001b[49m\u001b[43mstxn\u001b[49m\u001b[43m)\u001b[49m\n\u001b[1;32m     21\u001b[0m \u001b[38;5;28mprint\u001b[39m(txid)\n\u001b[1;32m     22\u001b[0m \u001b[38;5;66;03m# Wait for the transaction to be confirmed\u001b[39;00m\n",
      "File \u001b[0;32m~/End-to-End-Web3-dApps/venv/lib/python3.11/site-packages/algosdk/v2client/algod.py:331\u001b[0m, in \u001b[0;36mAlgodClient.send_transaction\u001b[0;34m(self, txn, **kwargs)\u001b[0m\n\u001b[1;32m    318\u001b[0m \u001b[38;5;250m\u001b[39m\u001b[38;5;124;03m\"\"\"\u001b[39;00m\n\u001b[1;32m    319\u001b[0m \u001b[38;5;124;03mBroadcast a signed transaction object to the network.\u001b[39;00m\n\u001b[1;32m    320\u001b[0m \n\u001b[0;32m   (...)\u001b[0m\n\u001b[1;32m    326\u001b[0m \u001b[38;5;124;03m    str: transaction ID\u001b[39;00m\n\u001b[1;32m    327\u001b[0m \u001b[38;5;124;03m\"\"\"\u001b[39;00m\n\u001b[1;32m    328\u001b[0m \u001b[38;5;28;01massert\u001b[39;00m \u001b[38;5;129;01mnot\u001b[39;00m \u001b[38;5;28misinstance\u001b[39m(\n\u001b[1;32m    329\u001b[0m     txn, transaction\u001b[38;5;241m.\u001b[39mTransaction\n\u001b[1;32m    330\u001b[0m ), \u001b[38;5;124m\"\u001b[39m\u001b[38;5;124mAttempt to send UNSUPPORTED type of transaction \u001b[39m\u001b[38;5;132;01m{}\u001b[39;00m\u001b[38;5;124m\"\u001b[39m\u001b[38;5;241m.\u001b[39mformat(txn)\n\u001b[0;32m--> 331\u001b[0m \u001b[38;5;28;01mreturn\u001b[39;00m \u001b[38;5;28;43mself\u001b[39;49m\u001b[38;5;241;43m.\u001b[39;49m\u001b[43msend_raw_transaction\u001b[49m\u001b[43m(\u001b[49m\n\u001b[1;32m    332\u001b[0m \u001b[43m    \u001b[49m\u001b[43mencoding\u001b[49m\u001b[38;5;241;43m.\u001b[39;49m\u001b[43mmsgpack_encode\u001b[49m\u001b[43m(\u001b[49m\u001b[43mtxn\u001b[49m\u001b[43m)\u001b[49m\u001b[43m,\u001b[49m\u001b[43m \u001b[49m\u001b[38;5;241;43m*\u001b[39;49m\u001b[38;5;241;43m*\u001b[39;49m\u001b[43mkwargs\u001b[49m\n\u001b[1;32m    333\u001b[0m \u001b[43m\u001b[49m\u001b[43m)\u001b[49m\n",
      "File \u001b[0;32m~/End-to-End-Web3-dApps/venv/lib/python3.11/site-packages/algosdk/v2client/algod.py:358\u001b[0m, in \u001b[0;36mAlgodClient.send_raw_transaction\u001b[0;34m(self, txn, **kwargs)\u001b[0m\n\u001b[1;32m    352\u001b[0m headers \u001b[38;5;241m=\u001b[39m util\u001b[38;5;241m.\u001b[39mbuild_headers_from(\n\u001b[1;32m    353\u001b[0m     kwargs\u001b[38;5;241m.\u001b[39mget(\u001b[38;5;124m\"\u001b[39m\u001b[38;5;124mheaders\u001b[39m\u001b[38;5;124m\"\u001b[39m, \u001b[38;5;28;01mFalse\u001b[39;00m),\n\u001b[1;32m    354\u001b[0m     {\u001b[38;5;124m\"\u001b[39m\u001b[38;5;124mContent-Type\u001b[39m\u001b[38;5;124m\"\u001b[39m: \u001b[38;5;124m\"\u001b[39m\u001b[38;5;124mapplication/x-binary\u001b[39m\u001b[38;5;124m\"\u001b[39m},\n\u001b[1;32m    355\u001b[0m )\n\u001b[1;32m    356\u001b[0m kwargs[\u001b[38;5;124m\"\u001b[39m\u001b[38;5;124mheaders\u001b[39m\u001b[38;5;124m\"\u001b[39m] \u001b[38;5;241m=\u001b[39m headers\n\u001b[0;32m--> 358\u001b[0m resp \u001b[38;5;241m=\u001b[39m \u001b[38;5;28;43mself\u001b[39;49m\u001b[38;5;241;43m.\u001b[39;49m\u001b[43malgod_request\u001b[49m\u001b[43m(\u001b[49m\u001b[38;5;124;43m\"\u001b[39;49m\u001b[38;5;124;43mPOST\u001b[39;49m\u001b[38;5;124;43m\"\u001b[39;49m\u001b[43m,\u001b[49m\u001b[43m \u001b[49m\u001b[43mreq\u001b[49m\u001b[43m,\u001b[49m\u001b[43m \u001b[49m\u001b[43mdata\u001b[49m\u001b[38;5;241;43m=\u001b[39;49m\u001b[43mtxn_bytes\u001b[49m\u001b[43m,\u001b[49m\u001b[43m \u001b[49m\u001b[38;5;241;43m*\u001b[39;49m\u001b[38;5;241;43m*\u001b[39;49m\u001b[43mkwargs\u001b[49m\u001b[43m)\u001b[49m\n\u001b[1;32m    359\u001b[0m \u001b[38;5;28;01mreturn\u001b[39;00m cast(\u001b[38;5;28mstr\u001b[39m, cast(\u001b[38;5;28mdict\u001b[39m, resp)[\u001b[38;5;124m\"\u001b[39m\u001b[38;5;124mtxId\u001b[39m\u001b[38;5;124m\"\u001b[39m])\n",
      "File \u001b[0;32m~/End-to-End-Web3-dApps/venv/lib/python3.11/site-packages/algosdk/v2client/algod.py:111\u001b[0m, in \u001b[0;36mAlgodClient.algod_request\u001b[0;34m(self, method, requrl, params, data, headers, response_format)\u001b[0m\n\u001b[1;32m    109\u001b[0m         e \u001b[38;5;241m=\u001b[39m json\u001b[38;5;241m.\u001b[39mloads(es)[\u001b[38;5;124m\"\u001b[39m\u001b[38;5;124mmessage\u001b[39m\u001b[38;5;124m\"\u001b[39m]\n\u001b[1;32m    110\u001b[0m     \u001b[38;5;28;01mfinally\u001b[39;00m:\n\u001b[0;32m--> 111\u001b[0m         \u001b[38;5;28;01mraise\u001b[39;00m error\u001b[38;5;241m.\u001b[39mAlgodHTTPError(e, code)\n\u001b[1;32m    112\u001b[0m \u001b[38;5;28;01mif\u001b[39;00m response_format \u001b[38;5;241m==\u001b[39m \u001b[38;5;124m\"\u001b[39m\u001b[38;5;124mjson\u001b[39m\u001b[38;5;124m\"\u001b[39m:\n\u001b[1;32m    113\u001b[0m     \u001b[38;5;28;01mtry\u001b[39;00m:\n",
      "\u001b[0;31mAlgodHTTPError\u001b[0m: TransactionPool.Remember: transaction DSOPJVUDJPFYIH7BYLZLKUI5SI23DTUMVZ3YGGELDDEVJNXXPZIA: asset 1112 missing from 4W45VZP6SMVYITTI7SJESMVSAJ6ATGGAQYZQCTRS22BSO4RWWPPEZMTIMQ"
     ]
    }
   ],
   "source": [
    "asset_id2=\"1112\"\n",
    "transfer_asset(m,receiver_pk,asset_id2)"
   ]
  },
  {
   "cell_type": "markdown",
   "metadata": {},
   "source": [
    "Get asset id"
   ]
  },
  {
   "cell_type": "code",
   "execution_count": 25,
   "metadata": {},
   "outputs": [
    {
     "name": "stdout",
     "output_type": "stream",
     "text": [
      "--------------------------------------------\n",
      "Creating Asset...\n",
      "Asset Creation Transaction ID: XICD6G4MNXONEZGDZXUMOBBMDSLXGDNTD7KBH5C6Z4NV2NSZ2GQA\n",
      "TXID:  XICD6G4MNXONEZGDZXUMOBBMDSLXGDNTD7KBH5C6Z4NV2NSZ2GQA\n",
      "Result confirmed in round: 81\n",
      "Asset ID: 1081\n",
      "{\n",
      "    \"creator\": \"4W45VZP6SMVYITTI7SJESMVSAJ6ATGGAQYZQCTRS22BSO4RWWPPEZMTIMQ\",\n",
      "    \"decimals\": 0,\n",
      "    \"default-frozen\": false,\n",
      "    \"manager\": \"4W45VZP6SMVYITTI7SJESMVSAJ6ATGGAQYZQCTRS22BSO4RWWPPEZMTIMQ\",\n",
      "    \"metadata-hash\": \"5zAUYEQ+kEKv8VCUNu17DMVNzpzRrF7X9JUr+OEfgp4=\",\n",
      "    \"name\": \"Alice's Artwork 001\",\n",
      "    \"name-b64\": \"QWxpY2UncyBBcnR3b3JrIDAwMQ==\",\n",
      "    \"reserve\": \"KOSJICYJYGMXQIQVVK55G2LQZMKX7QFPBC4VRMW2B4ROI4BKPW2POOFXTA\",\n",
      "    \"total\": 1,\n",
      "    \"unit-name\": \"ALICE001\",\n",
      "    \"unit-name-b64\": \"QUxJQ0UwMDE=\",\n",
      "    \"url\": \"https://path/to/my/asset/details\",\n",
      "    \"url-b64\": \"aHR0cHM6Ly9wYXRoL3RvL215L2Fzc2V0L2RldGFpbHM=\"\n",
      "}\n",
      "Asset ID: 1081\n",
      "{\n",
      "    \"amount\": 1,\n",
      "    \"asset-id\": 1081,\n",
      "    \"is-frozen\": false\n",
      "}\n"
     ]
    }
   ],
   "source": [
    "create_asset(m,receiver_pk)"
   ]
  },
  {
   "cell_type": "code",
   "execution_count": 26,
   "metadata": {},
   "outputs": [
    {
     "data": {
      "text/plain": [
       "{'address': 'KOSJICYJYGMXQIQVVK55G2LQZMKX7QFPBC4VRMW2B4ROI4BKPW2POOFXTA',\n",
       " 'amount': 997000,\n",
       " 'amount-without-pending-rewards': 997000,\n",
       " 'apps-local-state': [],\n",
       " 'apps-total-schema': {'num-byte-slice': 0, 'num-uint': 0},\n",
       " 'assets': [{'amount': 0, 'asset-id': 1068, 'is-frozen': False},\n",
       "  {'amount': 0, 'asset-id': 1074, 'is-frozen': False},\n",
       "  {'amount': 1, 'asset-id': 1077, 'is-frozen': False}],\n",
       " 'created-apps': [],\n",
       " 'created-assets': [],\n",
       " 'min-balance': 400000,\n",
       " 'pending-rewards': 0,\n",
       " 'reward-base': 0,\n",
       " 'rewards': 0,\n",
       " 'round': 81,\n",
       " 'status': 'Offline',\n",
       " 'total-apps-opted-in': 0,\n",
       " 'total-assets-opted-in': 3,\n",
       " 'total-created-apps': 0,\n",
       " 'total-created-assets': 0}"
      ]
     },
     "execution_count": 26,
     "metadata": {},
     "output_type": "execute_result"
    }
   ],
   "source": [
    "account_info = algod_client.account_info(receiver_pk)\n",
    "# holding = None\n",
    "# idx = 0\n",
    "# for my_account_info in account_info['assets']:\n",
    "#     scrutinized_asset = account_info['assets'][idx]\n",
    "#     idx = idx + 1    \n",
    "#     if (scrutinized_asset['asset-id'] == asset_id):\n",
    "#         holding = True\n",
    "#         break\n",
    "account_info"
   ]
  },
  {
   "cell_type": "code",
   "execution_count": null,
   "metadata": {},
   "outputs": [],
   "source": []
  }
 ],
 "metadata": {
  "kernelspec": {
   "display_name": "Python 3 (ipykernel)",
   "language": "python",
   "name": "python3"
  },
  "language_info": {
   "codemirror_mode": {
    "name": "ipython",
    "version": 3
   },
   "file_extension": ".py",
   "mimetype": "text/x-python",
   "name": "python",
   "nbconvert_exporter": "python",
   "pygments_lexer": "ipython3",
   "version": "3.11.2"
  },
  "vscode": {
   "interpreter": {
    "hash": "b1991c03751bb1ed07063b349673f109e299af7bd2e157024b7d7177e34b5cc3"
   }
  }
 },
 "nbformat": 4,
 "nbformat_minor": 4
}
